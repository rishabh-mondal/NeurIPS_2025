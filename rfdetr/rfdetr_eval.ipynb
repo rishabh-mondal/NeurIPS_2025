{
 "cells": [
  {
   "cell_type": "code",
   "execution_count": 1,
   "id": "1db24bcb",
   "metadata": {},
   "outputs": [],
   "source": [
    "import supervision as sv\n",
    "from supervision.metrics import MeanAveragePrecision\n",
    "from rfdetr import RFDETRBase, RFDETRLarge\n",
    "from PIL import Image\n",
    "import pandas as pd\n",
    "import matplotlib.pyplot as plt\n",
    "\n",
    "import os\n",
    "from tqdm import tqdm\n",
    "\n",
    "os.environ[\"CUDA_VISIBLE_DEVICES\"] = \"1\"  # Set GPU"
   ]
  },
  {
   "cell_type": "code",
   "execution_count": 2,
   "id": "d768952b",
   "metadata": {},
   "outputs": [
    {
     "name": "stdout",
     "output_type": "stream",
     "text": [
      "Train region: Sentinel Train, Test region: Sentinel Test\n"
     ]
    }
   ],
   "source": [
    "# Path to CSV\n",
    "result_df_path = \"sentinel_results.csv\"\n",
    "\n",
    "# Checkpoint\n",
    "checkpoint = \"runs/sentinel_data/checkpoint0029.pth\"\n",
    "\n",
    "# Name of the experiment\n",
    "experiment = \"Sentinel Train to Sentinel Test\"\n",
    "\n",
    "# Dataset dir\n",
    "dataset_dir = \"data/sentinel_data\"\n",
    "\n",
    "# Model\n",
    "model_name = \"RFDETRLarge Epoch 30\"\n",
    "\n",
    "\n",
    "# separate the source and target states from the experiment name\n",
    "train_region, test_region = experiment.split(\" to \")\n",
    "print(f\"Train region: {train_region}, Test region: {test_region}\")\n"
   ]
  },
  {
   "cell_type": "code",
   "execution_count": 3,
   "id": "02959e42",
   "metadata": {},
   "outputs": [
    {
     "name": "stdout",
     "output_type": "stream",
     "text": [
      "Loaded Dataset: 15590 images\n"
     ]
    }
   ],
   "source": [
    "sv_dataset = sv.DetectionDataset.from_coco(\n",
    "    images_directory_path=f\"{dataset_dir}/test\",\n",
    "    annotations_path=f\"{dataset_dir}/test/_annotations.coco.json\",\n",
    ")\n",
    "print(f\"Loaded Dataset: {len(sv_dataset)} images\")"
   ]
  },
  {
   "cell_type": "code",
   "execution_count": 4,
   "id": "1b3a8c81",
   "metadata": {},
   "outputs": [
    {
     "name": "stdout",
     "output_type": "stream",
     "text": [
      "Loading pretrain weights\n"
     ]
    },
    {
     "name": "stderr",
     "output_type": "stream",
     "text": [
      "num_classes mismatch: pretrain weights has 2 classes, but your model has 90 classes\n",
      "reinitializing detection head with 2 classes\n",
      "  0%|          | 0/15590 [00:00<?, ?it/s]UserWarning: torch.meshgrid: in an upcoming release, it will be required to pass the indexing argument. (Triggered internally at /pytorch/aten/src/ATen/native/TensorShape.cpp:4314.)\n",
      "100%|██████████| 15590/15590 [20:00<00:00, 12.99it/s]"
     ]
    },
    {
     "name": "stdout",
     "output_type": "stream",
     "text": [
      "15590 15590\n"
     ]
    },
    {
     "name": "stderr",
     "output_type": "stream",
     "text": [
      "\n"
     ]
    }
   ],
   "source": [
    "# model = RFDETRBase(pretrain_weights=checkpoint)\n",
    "model = RFDETRLarge(pretrain_weights=checkpoint)\n",
    "\n",
    "targets = []\n",
    "predictions = []\n",
    "\n",
    "for path, image, annotations in tqdm(sv_dataset):\n",
    "    image = Image.open(path)\n",
    "    detections = model.predict(image, threshold=0.5)\n",
    "\n",
    "    targets.append(annotations)\n",
    "    predictions.append(detections)\n",
    "\n",
    "\n",
    "print(len(targets), len(predictions))"
   ]
  },
  {
   "cell_type": "markdown",
   "id": "84c60f1b",
   "metadata": {},
   "source": [
    "## mAP Calculation"
   ]
  },
  {
   "cell_type": "code",
   "execution_count": 5,
   "id": "085bd677",
   "metadata": {},
   "outputs": [
    {
     "name": "stdout",
     "output_type": "stream",
     "text": [
      "====================================================================================================\n",
      "Class-specific mAP\n",
      "====================================================================================================\n",
      "Matched classes: [0, 1, 2]\n",
      "mAP 50:95: 0.3392862459443903, mAP 50: 0.6406493682992812, mAP 75: 0.31719596613057816\n",
      "cls: 0, mAP: 0.6425692107738321\n",
      "cls: 1, mAP: 0.6368444064352836\n",
      "cls: 2, mAP: 0.642534487688728\n",
      "====================================================================================================\n",
      "Class-agnostic mAP\n",
      "====================================================================================================\n",
      "CA mAP 50:95: 0.4193721427051991, CA mAP 50: 0.796390510423772, CA mAP 75: 0.390244889172282\n"
     ]
    }
   ],
   "source": [
    "## mAP calculation (non-class agnostic)\n",
    "print (100 * \"=\")\n",
    "print(\"Class-specific mAP\")\n",
    "print (100 * \"=\")\n",
    "map_metric = MeanAveragePrecision(class_agnostic=False)\n",
    "map_result = map_metric.update(predictions, targets).compute()\n",
    "# map_result.plot()\n",
    "\n",
    "matched_classes=map_result.matched_classes.tolist()\n",
    "print(f\"Matched classes: {matched_classes}\")\n",
    "\n",
    "# Extract mAP values\n",
    "mAP_50_95 = map_result.map50_95  # mAP 50:95\n",
    "mAP_50 = map_result.map50  # mAP 50\n",
    "mAP_75 = map_result.map75  # mAP 75\n",
    "print(f\"mAP 50:95: {mAP_50_95}, mAP 50: {mAP_50}, mAP 75: {mAP_75}\")\n",
    "\n",
    "# Extract class-wise mAP values\n",
    "num_classes=3\n",
    "final_class_wise_mAP = [0]*num_classes\n",
    "class_wise_mAP=map_result.ap_per_class[:,0].tolist()\n",
    "for cls, mAP in zip(matched_classes, class_wise_mAP):\n",
    "    print(f\"cls: {cls}, mAP: {mAP}\")\n",
    "    final_class_wise_mAP[cls] = mAP\n",
    "\n",
    "# Compute class-agnostic mAP\n",
    "print (100 * \"=\")\n",
    "print(\"Class-agnostic mAP\")\n",
    "print (100 * \"=\")\n",
    "mAP_metric_agnostic = MeanAveragePrecision(class_agnostic=True)\n",
    "mAP_result_agnostic = mAP_metric_agnostic.update(predictions, targets).compute()\n",
    "# Extract class-agnostic mAP values\n",
    "mAP_50_95_agnostic = mAP_result_agnostic.map50_95  # mAP 50:95\n",
    "mAP_50_agnostic = mAP_result_agnostic.map50  # mAP 50\n",
    "mAP_75_agnostic = mAP_result_agnostic.map75  # mAP 75\n",
    "print(f\"CA mAP 50:95: {mAP_50_95_agnostic}, CA mAP 50: {mAP_50_agnostic}, CA mAP 75: {mAP_75_agnostic}\")"
   ]
  },
  {
   "cell_type": "code",
   "execution_count": 6,
   "id": "0ed82acf",
   "metadata": {},
   "outputs": [
    {
     "data": {
      "text/html": [
       "<style type=\"text/css\">\n",
       "</style>\n",
       "<table id=\"T_8e4da\">\n",
       "  <thead>\n",
       "    <tr>\n",
       "      <th id=\"T_8e4da_level0_col0\" class=\"col_heading level0 col0\" >Model</th>\n",
       "      <th id=\"T_8e4da_level0_col1\" class=\"col_heading level0 col1\" >Train</th>\n",
       "      <th id=\"T_8e4da_level0_col2\" class=\"col_heading level0 col2\" >Test</th>\n",
       "      <th id=\"T_8e4da_level0_col3\" class=\"col_heading level0 col3\" >Images</th>\n",
       "      <th id=\"T_8e4da_level0_col4\" class=\"col_heading level0 col4\" >CFCBK</th>\n",
       "      <th id=\"T_8e4da_level0_col5\" class=\"col_heading level0 col5\" >FCBK</th>\n",
       "      <th id=\"T_8e4da_level0_col6\" class=\"col_heading level0 col6\" >Zigzag</th>\n",
       "      <th id=\"T_8e4da_level0_col7\" class=\"col_heading level0 col7\" >Class-agnostic AP</th>\n",
       "    </tr>\n",
       "  </thead>\n",
       "  <tbody>\n",
       "    <tr>\n",
       "      <td id=\"T_8e4da_row0_col0\" class=\"data row0 col0\" >RFDETRLarge Epoch 30</td>\n",
       "      <td id=\"T_8e4da_row0_col1\" class=\"data row0 col1\" >Sentinel Train</td>\n",
       "      <td id=\"T_8e4da_row0_col2\" class=\"data row0 col2\" >Sentinel Test</td>\n",
       "      <td id=\"T_8e4da_row0_col3\" class=\"data row0 col3\" >15590</td>\n",
       "      <td id=\"T_8e4da_row0_col4\" class=\"data row0 col4\" >0.642569</td>\n",
       "      <td id=\"T_8e4da_row0_col5\" class=\"data row0 col5\" >0.636844</td>\n",
       "      <td id=\"T_8e4da_row0_col6\" class=\"data row0 col6\" >0.642534</td>\n",
       "      <td id=\"T_8e4da_row0_col7\" class=\"data row0 col7\" >0.796391</td>\n",
       "    </tr>\n",
       "  </tbody>\n",
       "</table>\n"
      ],
      "text/plain": [
       "<pandas.io.formats.style.Styler at 0x7f7e2ba7b6d0>"
      ]
     },
     "metadata": {},
     "output_type": "display_data"
    }
   ],
   "source": [
    "columns=[\"Model\",\"Train\", \"Test\", \"Images\", \"CFCBK\", \"FCBK\", \"Zigzag\", \"Class-agnostic AP\"]\n",
    "result_df = pd.DataFrame(columns=columns)\n",
    "# new_row = [experiment] + final_class_wise_mAP + [mAP_50_agnostic]\n",
    "new_row = [model_name, train_region, test_region, len(sv_dataset)] + final_class_wise_mAP + [mAP_50_agnostic]\n",
    "    \n",
    "result_df.loc[len(result_df)] = new_row  # Using loc to add the row\n",
    "\n",
    "# Display DataFrame\n",
    "display(result_df.style.hide(axis=\"index\"))"
   ]
  },
  {
   "cell_type": "code",
   "execution_count": 7,
   "id": "8934f231",
   "metadata": {},
   "outputs": [],
   "source": [
    "# result_df.to_csv(result_df_path, index=False)"
   ]
  },
  {
   "cell_type": "code",
   "execution_count": 8,
   "id": "23cc577d",
   "metadata": {},
   "outputs": [
    {
     "data": {
      "text/html": [
       "<style type=\"text/css\">\n",
       "</style>\n",
       "<table id=\"T_f1747\">\n",
       "  <thead>\n",
       "    <tr>\n",
       "      <th id=\"T_f1747_level0_col0\" class=\"col_heading level0 col0\" >Model</th>\n",
       "      <th id=\"T_f1747_level0_col1\" class=\"col_heading level0 col1\" >Train</th>\n",
       "      <th id=\"T_f1747_level0_col2\" class=\"col_heading level0 col2\" >Test</th>\n",
       "      <th id=\"T_f1747_level0_col3\" class=\"col_heading level0 col3\" >Images</th>\n",
       "      <th id=\"T_f1747_level0_col4\" class=\"col_heading level0 col4\" >CFCBK</th>\n",
       "      <th id=\"T_f1747_level0_col5\" class=\"col_heading level0 col5\" >FCBK</th>\n",
       "      <th id=\"T_f1747_level0_col6\" class=\"col_heading level0 col6\" >Zigzag</th>\n",
       "      <th id=\"T_f1747_level0_col7\" class=\"col_heading level0 col7\" >Class-agnostic AP</th>\n",
       "    </tr>\n",
       "  </thead>\n",
       "  <tbody>\n",
       "    <tr>\n",
       "      <td id=\"T_f1747_row0_col0\" class=\"data row0 col0\" >RFDETRLarge Epoch 10</td>\n",
       "      <td id=\"T_f1747_row0_col1\" class=\"data row0 col1\" >Sentinel Train</td>\n",
       "      <td id=\"T_f1747_row0_col2\" class=\"data row0 col2\" >Sentinel Test</td>\n",
       "      <td id=\"T_f1747_row0_col3\" class=\"data row0 col3\" >15590</td>\n",
       "      <td id=\"T_f1747_row0_col4\" class=\"data row0 col4\" >0.593032</td>\n",
       "      <td id=\"T_f1747_row0_col5\" class=\"data row0 col5\" >0.571924</td>\n",
       "      <td id=\"T_f1747_row0_col6\" class=\"data row0 col6\" >0.583416</td>\n",
       "      <td id=\"T_f1747_row0_col7\" class=\"data row0 col7\" >0.714625</td>\n",
       "    </tr>\n",
       "    <tr>\n",
       "      <td id=\"T_f1747_row1_col0\" class=\"data row1 col0\" >RFDETRLarge Epoch 20</td>\n",
       "      <td id=\"T_f1747_row1_col1\" class=\"data row1 col1\" >Sentinel Train</td>\n",
       "      <td id=\"T_f1747_row1_col2\" class=\"data row1 col2\" >Sentinel Test</td>\n",
       "      <td id=\"T_f1747_row1_col3\" class=\"data row1 col3\" >15590</td>\n",
       "      <td id=\"T_f1747_row1_col4\" class=\"data row1 col4\" >0.588068</td>\n",
       "      <td id=\"T_f1747_row1_col5\" class=\"data row1 col5\" >0.582207</td>\n",
       "      <td id=\"T_f1747_row1_col6\" class=\"data row1 col6\" >0.599933</td>\n",
       "      <td id=\"T_f1747_row1_col7\" class=\"data row1 col7\" >0.746972</td>\n",
       "    </tr>\n",
       "    <tr>\n",
       "      <td id=\"T_f1747_row2_col0\" class=\"data row2 col0\" >RFDETRLarge Epoch 30</td>\n",
       "      <td id=\"T_f1747_row2_col1\" class=\"data row2 col1\" >Sentinel Train</td>\n",
       "      <td id=\"T_f1747_row2_col2\" class=\"data row2 col2\" >Sentinel Test</td>\n",
       "      <td id=\"T_f1747_row2_col3\" class=\"data row2 col3\" >15590</td>\n",
       "      <td id=\"T_f1747_row2_col4\" class=\"data row2 col4\" >0.642569</td>\n",
       "      <td id=\"T_f1747_row2_col5\" class=\"data row2 col5\" >0.636844</td>\n",
       "      <td id=\"T_f1747_row2_col6\" class=\"data row2 col6\" >0.642534</td>\n",
       "      <td id=\"T_f1747_row2_col7\" class=\"data row2 col7\" >0.796391</td>\n",
       "    </tr>\n",
       "  </tbody>\n",
       "</table>\n"
      ],
      "text/plain": [
       "<pandas.io.formats.style.Styler at 0x7f7e288c2490>"
      ]
     },
     "metadata": {},
     "output_type": "display_data"
    }
   ],
   "source": [
    "# Save DataFrame    \n",
    "result=pd.read_csv(result_df_path)\n",
    "result=result.reset_index(drop=True)\n",
    "result = pd.concat([result, result_df], ignore_index=True)\n",
    "display(result.style.hide(axis=\"index\"))\n",
    "result.to_csv(result_df_path, index=False)"
   ]
  },
  {
   "cell_type": "code",
   "execution_count": 9,
   "id": "fdbc537b",
   "metadata": {},
   "outputs": [
    {
     "data": {
      "text/html": [
       "<style type=\"text/css\">\n",
       "</style>\n",
       "<table id=\"T_fd53e\">\n",
       "  <thead>\n",
       "    <tr>\n",
       "      <th id=\"T_fd53e_level0_col0\" class=\"col_heading level0 col0\" >Model</th>\n",
       "      <th id=\"T_fd53e_level0_col1\" class=\"col_heading level0 col1\" >Train</th>\n",
       "      <th id=\"T_fd53e_level0_col2\" class=\"col_heading level0 col2\" >Test</th>\n",
       "      <th id=\"T_fd53e_level0_col3\" class=\"col_heading level0 col3\" >Images</th>\n",
       "      <th id=\"T_fd53e_level0_col4\" class=\"col_heading level0 col4\" >CFCBK</th>\n",
       "      <th id=\"T_fd53e_level0_col5\" class=\"col_heading level0 col5\" >FCBK</th>\n",
       "      <th id=\"T_fd53e_level0_col6\" class=\"col_heading level0 col6\" >Zigzag</th>\n",
       "      <th id=\"T_fd53e_level0_col7\" class=\"col_heading level0 col7\" >Class-agnostic AP</th>\n",
       "    </tr>\n",
       "  </thead>\n",
       "  <tbody>\n",
       "    <tr>\n",
       "      <td id=\"T_fd53e_row0_col0\" class=\"data row0 col0\" >RFDETRLarge Epoch 10</td>\n",
       "      <td id=\"T_fd53e_row0_col1\" class=\"data row0 col1\" >Sentinel Train</td>\n",
       "      <td id=\"T_fd53e_row0_col2\" class=\"data row0 col2\" >Sentinel Test</td>\n",
       "      <td id=\"T_fd53e_row0_col3\" class=\"data row0 col3\" >15590</td>\n",
       "      <td id=\"T_fd53e_row0_col4\" class=\"data row0 col4\" >0.593032</td>\n",
       "      <td id=\"T_fd53e_row0_col5\" class=\"data row0 col5\" >0.571924</td>\n",
       "      <td id=\"T_fd53e_row0_col6\" class=\"data row0 col6\" >0.583416</td>\n",
       "      <td id=\"T_fd53e_row0_col7\" class=\"data row0 col7\" >0.714625</td>\n",
       "    </tr>\n",
       "    <tr>\n",
       "      <td id=\"T_fd53e_row1_col0\" class=\"data row1 col0\" >RFDETRLarge Epoch 20</td>\n",
       "      <td id=\"T_fd53e_row1_col1\" class=\"data row1 col1\" >Sentinel Train</td>\n",
       "      <td id=\"T_fd53e_row1_col2\" class=\"data row1 col2\" >Sentinel Test</td>\n",
       "      <td id=\"T_fd53e_row1_col3\" class=\"data row1 col3\" >15590</td>\n",
       "      <td id=\"T_fd53e_row1_col4\" class=\"data row1 col4\" >0.588068</td>\n",
       "      <td id=\"T_fd53e_row1_col5\" class=\"data row1 col5\" >0.582207</td>\n",
       "      <td id=\"T_fd53e_row1_col6\" class=\"data row1 col6\" >0.599933</td>\n",
       "      <td id=\"T_fd53e_row1_col7\" class=\"data row1 col7\" >0.746972</td>\n",
       "    </tr>\n",
       "    <tr>\n",
       "      <td id=\"T_fd53e_row2_col0\" class=\"data row2 col0\" >RFDETRLarge Epoch 30</td>\n",
       "      <td id=\"T_fd53e_row2_col1\" class=\"data row2 col1\" >Sentinel Train</td>\n",
       "      <td id=\"T_fd53e_row2_col2\" class=\"data row2 col2\" >Sentinel Test</td>\n",
       "      <td id=\"T_fd53e_row2_col3\" class=\"data row2 col3\" >15590</td>\n",
       "      <td id=\"T_fd53e_row2_col4\" class=\"data row2 col4\" >0.642569</td>\n",
       "      <td id=\"T_fd53e_row2_col5\" class=\"data row2 col5\" >0.636844</td>\n",
       "      <td id=\"T_fd53e_row2_col6\" class=\"data row2 col6\" >0.642534</td>\n",
       "      <td id=\"T_fd53e_row2_col7\" class=\"data row2 col7\" >0.796391</td>\n",
       "    </tr>\n",
       "  </tbody>\n",
       "</table>\n"
      ],
      "text/plain": [
       "<pandas.io.formats.style.Styler at 0x7f7e2c034050>"
      ]
     },
     "metadata": {},
     "output_type": "display_data"
    }
   ],
   "source": [
    "result=pd.read_csv(result_df_path)\n",
    "display(result.style.hide(axis=\"index\"))"
   ]
  },
  {
   "cell_type": "code",
   "execution_count": 10,
   "id": "2dcb4b93",
   "metadata": {},
   "outputs": [],
   "source": [
    "# result=pd.read_csv(result_df_path)\n",
    "# result = result.iloc[:, [1, 2, -1]]\n",
    "# display(result.style.hide(axis=\"index\"))"
   ]
  },
  {
   "cell_type": "markdown",
   "id": "98a50ea0",
   "metadata": {},
   "source": [
    "### Confusion Matrix\n"
   ]
  },
  {
   "cell_type": "code",
   "execution_count": 12,
   "id": "12737fce",
   "metadata": {},
   "outputs": [
    {
     "data": {
      "image/png": "[encoded data removed]",
      "text/plain": [
       "<Figure size 800x800 with 2 Axes>"
      ]
     },
     "metadata": {},
     "output_type": "display_data"
    }
   ],
   "source": [
    "confusion_matrix = sv.ConfusionMatrix.from_detections(\n",
    "    predictions=predictions,\n",
    "    targets=targets,\n",
    "    classes=sv_dataset.classes,\n",
    ")\n",
    "\n",
    "confusion_matrix.plot(\n",
    "    fig_size=(8,8),\n",
    "    title=f\"Confusion Matrix for {experiment}\",\n",
    ")\n",
    "plt.show()\n",
    "plt.close()"
   ]
  },
  {
   "cell_type": "code",
   "execution_count": null,
   "id": "84c17bad",
   "metadata": {},
   "outputs": [],
   "source": []
  }
 ],
 "metadata": {
  "kernelspec": {
   "display_name": ".venv (3.11.7)",
   "language": "python",
   "name": "python3"
  },
  "language_info": {
   "codemirror_mode": {
    "name": "ipython",
    "version": 3
   },
   "file_extension": ".py",
   "mimetype": "text/x-python",
   "name": "python",
   "nbconvert_exporter": "python",
   "pygments_lexer": "ipython3",
   "version": "3.11.7"
  }
 },
 "nbformat": 4,
 "nbformat_minor": 5
}
